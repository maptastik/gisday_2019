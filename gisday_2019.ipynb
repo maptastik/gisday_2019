{
 "cells": [
  {
   "cell_type": "markdown",
   "metadata": {
    "slideshow": {
     "slide_type": "slide"
    }
   },
   "source": [
    "# Drops of Jupyter:  Making Maps with Python and Interactive Notebooks\n",
    "\n",
    "**Ryan Cooper |  @maptastik**\n",
    "\n",
    "Technology Analyst | Raleigh Parks, Recreation and Cultural Resources\n",
    "\n",
    "**Presentation Repo:** https://github.com/maptastik/gisday_2019"
   ]
  },
  {
   "cell_type": "markdown",
   "metadata": {
    "slideshow": {
     "slide_type": "skip"
    }
   },
   "source": [
    "1. What is a Jupyter Notebook?\n",
    "2. Static Maps\n",
    "3. Interactive Maps\n",
    "4. Advanced Applications"
   ]
  },
  {
   "cell_type": "markdown",
   "metadata": {
    "slideshow": {
     "slide_type": "slide"
    }
   },
   "source": [
    "## What is a Jupyter Notebook?"
   ]
  },
  {
   "cell_type": "markdown",
   "metadata": {
    "slideshow": {
     "slide_type": "fragment"
    }
   },
   "source": [
    "_The Jupyter Notebook is an open-source web application that allows you to create and share documents that contain live code, equations, visualizations and narrative text._ - [jupyter.org](https://jupyter.org/)"
   ]
  },
  {
   "cell_type": "markdown",
   "metadata": {
    "slideshow": {
     "slide_type": "fragment"
    }
   },
   "source": [
    "- Python\n",
    "- R\n",
    "- Julia\n",
    "- and over 100 other languages"
   ]
  },
  {
   "cell_type": "markdown",
   "metadata": {
    "slideshow": {
     "slide_type": "fragment"
    }
   },
   "source": [
    "# THIS."
   ]
  },
  {
   "cell_type": "markdown",
   "metadata": {
    "slideshow": {
     "slide_type": "skip"
    }
   },
   "source": [
    "## Pandas + Shapely: A standard data model"
   ]
  },
  {
   "cell_type": "code",
   "execution_count": null,
   "metadata": {
    "slideshow": {
     "slide_type": "slide"
    }
   },
   "outputs": [],
   "source": [
    "import geopandas as gpd"
   ]
  },
  {
   "cell_type": "markdown",
   "metadata": {
    "slideshow": {
     "slide_type": "slide"
    }
   },
   "source": [
    "### Read a file"
   ]
  },
  {
   "cell_type": "code",
   "execution_count": null,
   "metadata": {
    "slideshow": {
     "slide_type": "fragment"
    }
   },
   "outputs": [],
   "source": [
    "parks_gdf = gpd.read_file('https://opendata.arcgis.com/datasets/43b5d6bf9d6e400599498d052545d331_0.geojson')"
   ]
  },
  {
   "cell_type": "markdown",
   "metadata": {
    "slideshow": {
     "slide_type": "skip"
    }
   },
   "source": [
    "### View the data frame"
   ]
  },
  {
   "cell_type": "code",
   "execution_count": null,
   "metadata": {
    "slideshow": {
     "slide_type": "skip"
    }
   },
   "outputs": [],
   "source": [
    "parks_gdf.head()"
   ]
  },
  {
   "cell_type": "markdown",
   "metadata": {
    "slideshow": {
     "slide_type": "skip"
    }
   },
   "source": [
    "### Get information about the dataset"
   ]
  },
  {
   "cell_type": "markdown",
   "metadata": {
    "slideshow": {
     "slide_type": "skip"
    }
   },
   "source": [
    "#### Fields"
   ]
  },
  {
   "cell_type": "code",
   "execution_count": null,
   "metadata": {
    "slideshow": {
     "slide_type": "skip"
    }
   },
   "outputs": [],
   "source": [
    "parks_gdf.info()"
   ]
  },
  {
   "cell_type": "markdown",
   "metadata": {
    "slideshow": {
     "slide_type": "skip"
    }
   },
   "source": [
    "#### Summay Statistics"
   ]
  },
  {
   "cell_type": "code",
   "execution_count": null,
   "metadata": {
    "slideshow": {
     "slide_type": "skip"
    }
   },
   "outputs": [],
   "source": [
    "parks_gdf.describe()"
   ]
  },
  {
   "cell_type": "code",
   "execution_count": null,
   "metadata": {
    "slideshow": {
     "slide_type": "skip"
    }
   },
   "outputs": [],
   "source": [
    "parks_gdf['DEVELOPED'].value_counts()"
   ]
  },
  {
   "cell_type": "markdown",
   "metadata": {
    "slideshow": {
     "slide_type": "skip"
    }
   },
   "source": [
    "#### Geometry Properties"
   ]
  },
  {
   "cell_type": "code",
   "execution_count": null,
   "metadata": {
    "slideshow": {
     "slide_type": "skip"
    }
   },
   "outputs": [],
   "source": [
    "parks_gdf.crs"
   ]
  },
  {
   "cell_type": "code",
   "execution_count": null,
   "metadata": {
    "slideshow": {
     "slide_type": "skip"
    }
   },
   "outputs": [],
   "source": [
    "park_geometry = parks_gdf.loc[parks_gdf[parks_gdf[\"NAME\"] == 'Brentwood'].index[0], 'geometry']\n",
    "display(park_geometry)\n",
    "print(f'Python Object Type: {type(park_geometry)}')\n",
    "print(f'Geometry Type: {park_geometry.geom_type}')"
   ]
  },
  {
   "cell_type": "code",
   "execution_count": null,
   "metadata": {
    "slideshow": {
     "slide_type": "skip"
    }
   },
   "outputs": [],
   "source": [
    "print(park_geometry)"
   ]
  },
  {
   "cell_type": "markdown",
   "metadata": {
    "slideshow": {
     "slide_type": "skip"
    }
   },
   "source": [
    "#### Shapely Geometry"
   ]
  },
  {
   "cell_type": "code",
   "execution_count": null,
   "metadata": {
    "slideshow": {
     "slide_type": "skip"
    }
   },
   "outputs": [],
   "source": [
    "park_geometry.centroid.x, park_geometry.centroid.y"
   ]
  },
  {
   "cell_type": "code",
   "execution_count": null,
   "metadata": {
    "slideshow": {
     "slide_type": "skip"
    }
   },
   "outputs": [],
   "source": [
    "from pyproj import Proj, transform\n",
    "inProj = Proj(init = 'epsg:4326')\n",
    "outProj = Proj(init = 'epsg:2264')\n",
    "x, y = transform(inProj, outProj, park_geometry.centroid.x, park_geometry.centroid.y)\n",
    "x, y"
   ]
  },
  {
   "cell_type": "code",
   "execution_count": null,
   "metadata": {
    "slideshow": {
     "slide_type": "skip"
    }
   },
   "outputs": [],
   "source": [
    "parks_points_gdf = parks_gdf.copy()\n",
    "parks_points_gdf['geometry'] = parks_points_gdf.apply(lambda x: x['geometry'].centroid, axis = 1)\n",
    "parks_points_gdf.plot()"
   ]
  },
  {
   "cell_type": "markdown",
   "metadata": {
    "slideshow": {
     "slide_type": "slide"
    }
   },
   "source": [
    "## Static Maps"
   ]
  },
  {
   "cell_type": "markdown",
   "metadata": {
    "slideshow": {
     "slide_type": "subslide"
    }
   },
   "source": [
    "#### Plot geometries with geopandas"
   ]
  },
  {
   "cell_type": "code",
   "execution_count": null,
   "metadata": {
    "slideshow": {
     "slide_type": "subslide"
    }
   },
   "outputs": [],
   "source": [
    "%matplotlib inline\n",
    "parks_gdf.plot(column = 'DEVELOPED', cmap = 'Paired', figsize = (12, 12), legend = True)"
   ]
  },
  {
   "cell_type": "markdown",
   "metadata": {
    "slideshow": {
     "slide_type": "slide"
    }
   },
   "source": [
    "### Example: Citrix Cycle Docks w/ geopandas and contextily"
   ]
  },
  {
   "cell_type": "code",
   "execution_count": null,
   "metadata": {
    "slideshow": {
     "slide_type": "fragment"
    }
   },
   "outputs": [],
   "source": [
    "import requests\n",
    "from io import BytesIO\n",
    "import pandas as pd\n",
    "from shapely.geometry import Point"
   ]
  },
  {
   "cell_type": "markdown",
   "metadata": {
    "slideshow": {
     "slide_type": "subslide"
    }
   },
   "source": [
    "#### Access Citrix Cycle Docks data feed"
   ]
  },
  {
   "cell_type": "code",
   "execution_count": null,
   "metadata": {
    "slideshow": {
     "slide_type": "fragment"
    }
   },
   "outputs": [],
   "source": [
    "cc_docks_r = requests.get('https://citrixcycle.com/stations/stations/')\n",
    "cc_docks_df = pd.read_json(BytesIO(cc_docks_r.content))\n",
    "cc_docks_reduced_df = cc_docks_df.loc[:,['id', 'locking_station_type', 'description', 'address', 'primary_locked_cycle_count', 'stocking_low', 'total_locked_cycle_count', 'free_spaces', 'location']]\n",
    "cc_docks_reduced_df['geometry'] = cc_docks_reduced_df.apply(lambda x: Point(x['location'][1],x['location'][0]), axis = 1)\n",
    "cc_docks_reduced_df.drop(columns=['location'], inplace = True)\n",
    "cc_docks_reduced_gdf = gpd.GeoDataFrame(cc_docks_reduced_df, geometry = 'geometry', crs={'init': 'epsg:4326'})\n",
    "cc_docks_reduced_gdf.head()"
   ]
  },
  {
   "cell_type": "code",
   "execution_count": null,
   "metadata": {
    "slideshow": {
     "slide_type": "subslide"
    }
   },
   "outputs": [],
   "source": [
    "cc_docks_reduced_gdf.plot()"
   ]
  },
  {
   "cell_type": "markdown",
   "metadata": {
    "slideshow": {
     "slide_type": "subslide"
    }
   },
   "source": [
    "#### Plot with contextily"
   ]
  },
  {
   "cell_type": "code",
   "execution_count": null,
   "metadata": {
    "slideshow": {
     "slide_type": "fragment"
    }
   },
   "outputs": [],
   "source": [
    "import contextily as ctx"
   ]
  },
  {
   "cell_type": "code",
   "execution_count": null,
   "metadata": {
    "slideshow": {
     "slide_type": "skip"
    }
   },
   "outputs": [],
   "source": [
    "cc_ax1 = cc_docks_reduced_gdf.to_crs(epsg = 3857).plot(figsize = (12, 20))\n",
    "ctx.add_basemap(cc_ax1, url = 'https://a.basemaps.cartocdn.com/rastertiles/voyager/{z}/{x}/{y}.png')"
   ]
  },
  {
   "cell_type": "markdown",
   "metadata": {
    "slideshow": {
     "slide_type": "skip"
    }
   },
   "source": [
    "#### Size maker by column value"
   ]
  },
  {
   "cell_type": "code",
   "execution_count": null,
   "metadata": {
    "slideshow": {
     "slide_type": "skip"
    }
   },
   "outputs": [],
   "source": [
    "cc_docks_reduced_gdf.describe()"
   ]
  },
  {
   "cell_type": "code",
   "execution_count": null,
   "metadata": {
    "scrolled": false,
    "slideshow": {
     "slide_type": "skip"
    }
   },
   "outputs": [],
   "source": [
    "cc_ax2 =cc_docks_reduced_gdf.to_crs(epsg = 3857).plot(markersize = cc_docks_reduced_gdf['total_locked_cycle_count']**3, figsize = (12, 20))\n",
    "ctx.add_basemap(cc_ax2, url = 'https://a.basemaps.cartocdn.com/rastertiles/voyager/{z}/{x}/{y}.png')"
   ]
  },
  {
   "cell_type": "code",
   "execution_count": null,
   "metadata": {
    "slideshow": {
     "slide_type": "subslide"
    }
   },
   "outputs": [],
   "source": [
    "cc_ax3 = cc_docks_reduced_gdf.to_crs(epsg = 3857).plot(\n",
    "    marker = 'o',\n",
    "    markersize = cc_docks_reduced_gdf['total_locked_cycle_count']**3,\n",
    "    color = 'purple',\n",
    "    edgecolors = 'black',\n",
    "    linewidths = 3,\n",
    "    alpha = 0.35,\n",
    "    figsize = (12,20)) \n",
    "ctx.add_basemap(cc_ax3, url = 'https://a.basemaps.cartocdn.com/rastertiles/voyager/{z}/{x}/{y}.png')"
   ]
  },
  {
   "cell_type": "markdown",
   "metadata": {
    "slideshow": {
     "slide_type": "slide"
    }
   },
   "source": [
    "### Example: Plotting building permit density with geoplot"
   ]
  },
  {
   "cell_type": "markdown",
   "metadata": {
    "slideshow": {
     "slide_type": "subslide"
    }
   },
   "source": [
    "#### Access last month of Raleigh building permit data"
   ]
  },
  {
   "cell_type": "code",
   "execution_count": null,
   "metadata": {
    "slideshow": {
     "slide_type": "fragment"
    }
   },
   "outputs": [],
   "source": [
    "bp_gdf = gpd.read_file('https://opendata.arcgis.com/datasets/f7a3cbd07e9f4ca5bb6637e7eeab5871_0.geojson')\n",
    "# bp_gdf = gpd.read_file('./DATA/building_permits_1month.geojson')\n",
    "bp_gdf.drop(bp_gdf[bp_gdf['geometry'].isna()].index, inplace = True)\n",
    "bp_gdf.head()"
   ]
  },
  {
   "cell_type": "markdown",
   "metadata": {
    "slideshow": {
     "slide_type": "subslide"
    }
   },
   "source": [
    "#### Plotting building permit density with geoplot"
   ]
  },
  {
   "cell_type": "code",
   "execution_count": null,
   "metadata": {
    "slideshow": {
     "slide_type": "fragment"
    }
   },
   "outputs": [],
   "source": [
    "import geoplot as gplt\n",
    "import geoplot.crs as gcrs\n",
    "import matplotlib.pyplot as plt"
   ]
  },
  {
   "cell_type": "code",
   "execution_count": null,
   "metadata": {
    "slideshow": {
     "slide_type": "skip"
    }
   },
   "outputs": [],
   "source": [
    "bp_ax1 = gplt.pointplot(bp_gdf, projection = gcrs.WebMercator(), s = 8, color = 'green', figsize = (12, 12))\n",
    "gplt.webmap(bp_gdf, provider = 'ST_TONER', ax = bp_ax1)"
   ]
  },
  {
   "cell_type": "code",
   "execution_count": null,
   "metadata": {
    "slideshow": {
     "slide_type": "subslide"
    }
   },
   "outputs": [],
   "source": [
    "bp_ax2 = gplt.kdeplot(bp_gdf, projection = gcrs.WebMercator(), cmap = 'plasma', shade = True, alpha = 0.5, figsize = (12, 12))\n",
    "gplt.pointplot(bp_gdf, s = 2, color = 'black', ax = bp_ax2)\n",
    "gplt.webmap(bp_gdf, provider = 'ST_TONER', ax = bp_ax2)\n",
    "plt.title(\"Density of Raleigh Building Permits for the last month\", fontsize = 24)\n",
    "fig = plt.gcf()"
   ]
  },
  {
   "cell_type": "markdown",
   "metadata": {
    "slideshow": {
     "slide_type": "slide"
    }
   },
   "source": [
    "## Interactive"
   ]
  },
  {
   "cell_type": "markdown",
   "metadata": {
    "slideshow": {
     "slide_type": "slide"
    }
   },
   "source": [
    "### Example: Interactive Choropleth"
   ]
  },
  {
   "cell_type": "markdown",
   "metadata": {
    "slideshow": {
     "slide_type": "slide"
    }
   },
   "source": [
    "First, a data processing diversion...Aggregating points to a hexgrid!"
   ]
  },
  {
   "cell_type": "code",
   "execution_count": null,
   "metadata": {
    "slideshow": {
     "slide_type": "subslide"
    }
   },
   "outputs": [],
   "source": [
    "hexgrid_gdf = gpd.read_file('./DATA/hexgrid_polygon_4326.geojson')\n",
    "hex_ax = gplt.polyplot(hexgrid_gdf, projection = gcrs.WebMercator(), color = 'red', alpha = 0.25, figsize = (12, 12), zorder = 1)\n",
    "gplt.pointplot(bp_gdf, s = 2, color = 'black', ax = hex_ax, zorder = 2)\n",
    "gplt.webmap(hexgrid_gdf, provider = 'ST_TONER', ax = hex_ax)"
   ]
  },
  {
   "cell_type": "code",
   "execution_count": null,
   "metadata": {
    "slideshow": {
     "slide_type": "subslide"
    }
   },
   "outputs": [],
   "source": [
    "bp_hex_counts_df = gpd.sjoin(hexgrid_gdf, bp_gdf)['hexid'].value_counts().reset_index().rename(columns = {'index': 'hexid', 'hexid': 'bp_count'})\n",
    "bp_hex_counts_gdf = hexgrid_gdf.merge(bp_hex_counts_df, on = 'hexid')\n",
    "bp_hex_counts_gdf.head()"
   ]
  },
  {
   "cell_type": "markdown",
   "metadata": {
    "slideshow": {
     "slide_type": "subslide"
    }
   },
   "source": [
    "#### Folium"
   ]
  },
  {
   "cell_type": "code",
   "execution_count": null,
   "metadata": {
    "slideshow": {
     "slide_type": "fragment"
    }
   },
   "outputs": [],
   "source": [
    "import folium"
   ]
  },
  {
   "cell_type": "code",
   "execution_count": null,
   "metadata": {
    "slideshow": {
     "slide_type": "subslide"
    }
   },
   "outputs": [],
   "source": [
    "m1 = folium.Map(location = [35.84, -78.638176], zoom_start = 12)\n",
    "m1"
   ]
  },
  {
   "cell_type": "code",
   "execution_count": null,
   "metadata": {
    "slideshow": {
     "slide_type": "subslide"
    }
   },
   "outputs": [],
   "source": [
    "m2 = folium.Map(\n",
    "    location = [35.84, -78.638176], \n",
    "    zoom_start = 12,\n",
    "    tiles = 'stamentoner')\n",
    "folium.Choropleth(\n",
    "    geo_data = './DATA/hexgrid_polygon_4326.geojson',\n",
    "    name = 'Building Permit Hexbins',\n",
    "    data = bp_hex_counts_df,\n",
    "    columns = ['hexid', 'bp_count'],\n",
    "    key_on = 'feature.properties.hexid',\n",
    "    fill_color = 'Greens',\n",
    "    fill_opacity = 0.75,\n",
    "    highlight = True,\n",
    "    nan_fill_opacity = 0,\n",
    "    nan_fill_color = '#ffffff',\n",
    "    line_weight = 0,\n",
    "    control = True\n",
    ").add_to(m2)\n",
    "\n",
    "folium.LayerControl().add_to(m2)\n",
    "m2"
   ]
  },
  {
   "cell_type": "markdown",
   "metadata": {
    "slideshow": {
     "slide_type": "subslide"
    }
   },
   "source": [
    "#### CARTOframes"
   ]
  },
  {
   "cell_type": "code",
   "execution_count": null,
   "metadata": {
    "slideshow": {
     "slide_type": "subslide"
    }
   },
   "outputs": [],
   "source": [
    "from cartoframes.viz.helpers import color_continuous_layer\n",
    "color_continuous_layer(bp_hex_counts_gdf, 'bp_count', 'Building Permits')"
   ]
  },
  {
   "cell_type": "code",
   "execution_count": null,
   "metadata": {
    "slideshow": {
     "slide_type": "skip"
    }
   },
   "outputs": [],
   "source": [
    "Map(\n",
    "    Layer(\n",
    "        bp_hex_counts_gdf,\n",
    "        '''\n",
    "        color: ramp(globalQuantiles($bp_count,8), teal)\n",
    "        opacity: 0.75\n",
    "        ''',\n",
    "        legend = Legend(\n",
    "            'color-bins',\n",
    "            title = 'Building Permits',\n",
    "            description = \"by hex grid cell\",\n",
    "            footer = \"City of Raleigh GIS\"\n",
    "        ),\n",
    "        popup = Popup({\n",
    "            'hover': {'title': 'Total Building Permits', 'value':'$bp_count'}\n",
    "        })\n",
    "    )\n",
    ")"
   ]
  },
  {
   "cell_type": "markdown",
   "metadata": {
    "slideshow": {
     "slide_type": "slide"
    }
   },
   "source": [
    "### Advanced Applications"
   ]
  },
  {
   "cell_type": "markdown",
   "metadata": {
    "slideshow": {
     "slide_type": "subslide"
    }
   },
   "source": [
    "But first, some combining GoRaleigh Stop and Shelter datasets..."
   ]
  },
  {
   "cell_type": "code",
   "execution_count": null,
   "metadata": {
    "slideshow": {
     "slide_type": "subslide"
    }
   },
   "outputs": [],
   "source": [
    "def arcgis_rest_to_gdf(url, layer_id):\n",
    "  url = f'{url}/{layer_id}/query'\n",
    "  params = {\n",
    "    'f': 'geojson',\n",
    "    'where': '1=1',\n",
    "    'outFields': '*',\n",
    "    'outSR': 4326\n",
    "  }\n",
    "  r = requests.get(url, params = params)\n",
    "  return gpd.read_file(BytesIO(r.content))\n",
    "\n",
    "shelters_gdf = arcgis_rest_to_gdf(\"https://services.arcgis.com/v400IkDOw1ad7Yad/arcgis/rest/services/GoRaleigh_Shelters/FeatureServer\", 0)\n",
    "stops_gdf = arcgis_rest_to_gdf(\"https://services.arcgis.com/v400IkDOw1ad7Yad/ArcGIS/rest/services/GoRaleigh_Stops/FeatureServer\", 0)\n",
    "\n",
    "shelters_reduced_gdf = shelters_gdf.loc[:,[\"Stop_ID\", \"Stop_Name\", \"Shelter\", \"geometry\"]]\n",
    "shelters_reduced_gdf[\"Stop_ID\"] = shelters_reduced_gdf.apply(lambda x: str(x[\"Stop_ID\"]), axis = 1)\n",
    "shelters_reduced_gdf[\"Status\"] = shelters_reduced_gdf.apply(lambda x: \"Planned\" if \"Planned\" in x[\"Shelter\"] else \"Existing\", axis = 1)\n",
    "shelters_reduced_gdf[\"Shelter\"] = shelters_reduced_gdf.apply(lambda x: x[\"Shelter\"].split(' - ')[0], axis = 1)\n",
    "\n",
    "stops_reduced_gdf = stops_gdf[[\"StopAbbr\", \"StopName\", \"geometry\"]]\n",
    "stops_reduced_gdf = stops_reduced_gdf.groupby(\"StopAbbr\").first().reset_index()[[\"StopAbbr\", \"StopName\", \"geometry\"]]\n",
    "\n",
    "stops_shelters_gdf = stops_reduced_gdf.merge(shelters_reduced_gdf, how = 'outer', left_on = 'StopAbbr', right_on = 'Stop_ID', suffixes = ('', '_shelters'), sort = True)\n",
    "\n",
    "# Clean up some of the fields and pivot Status field for use with formula widget\n",
    "stops_shelters_gdf['StopAbbr'].fillna('0', inplace = True)\n",
    "stops_shelters_gdf[\"StopName\"].fillna(\"Unnamed Stop\", inplace = True)\n",
    "stops_shelters_gdf[\"Shelter\"].fillna(\"No Shelter\", inplace = True)\n",
    "stops_shelters_gdf[\"Status\"].fillna('No Shelter Planned', inplace = True)\n",
    "stops_shelters_gdf[\"Existing\"] = stops_shelters_gdf.apply(lambda x: 1 if x[\"Status\"] == \"Existing\" else 0, axis = 1)\n",
    "stops_shelters_gdf[\"Planned\"] = stops_shelters_gdf.apply(lambda x: 1 if x[\"Status\"] == \"Planned\" else 0, axis = 1)\n",
    "stops_shelters_gdf[\"No_Shelter_Planned\"] = stops_shelters_gdf.apply(lambda x: 1 if x[\"Status\"] == \"No Shelter Planned\" else 0, axis = 1)\n",
    "stops_shelters_gdf[\"geometry\"] = stops_shelters_gdf.apply(lambda x: x[\"geometry_shelters\"] if x[\"geometry\"] is None else x[\"geometry\"], axis = 1)\n",
    "\n",
    "stops_shelters_gdf = stops_shelters_gdf[[\"StopAbbr\", \"StopName\", \"Shelter\", \"Status\", \"Existing\", \"Planned\", \"No_Shelter_Planned\", \"geometry\"]]\n",
    "stops_shelters_gdf = gpd.GeoDataFrame(stops_shelters_gdf, crs = {\"init\":\"epsg:4326\"}, geometry = \"geometry\")"
   ]
  },
  {
   "cell_type": "code",
   "execution_count": null,
   "metadata": {
    "scrolled": true,
    "slideshow": {
     "slide_type": "subslide"
    }
   },
   "outputs": [],
   "source": [
    "stops_shelters_gdf.head()"
   ]
  },
  {
   "cell_type": "markdown",
   "metadata": {
    "slideshow": {
     "slide_type": "subslide"
    }
   },
   "source": [
    "#### CARTOframes"
   ]
  },
  {
   "cell_type": "code",
   "execution_count": null,
   "metadata": {
    "slideshow": {
     "slide_type": "subslide"
    }
   },
   "outputs": [],
   "source": [
    "from cartoframes.viz import Map, Layer, Legend, Popup\n",
    "from cartoframes.viz.widgets import category_widget, formula_widget"
   ]
  },
  {
   "cell_type": "code",
   "execution_count": null,
   "metadata": {
    "slideshow": {
     "slide_type": "subslide"
    }
   },
   "outputs": [],
   "source": [
    "shelter_stop_map = Map(\n",
    "    Layer(\n",
    "        stops_shelters_gdf,\n",
    "        '''\n",
    "        color: ramp(buckets($Status, [\"Existing\", \"Planned\", \"No Shelter Planned\"]), [#4CAF50, #FFC107, #B0BEC533]),\n",
    "        width: 5\n",
    "        ''',\n",
    "        legend = Legend(\n",
    "            'color-category',\n",
    "            title = \"GoRaleigh Status of Bus Stop Shelters\",\n",
    "            footer = \"Data: GoRaleigh, City of Raleigh\"\n",
    "        ),\n",
    "        popup = Popup({\n",
    "           'click': [{\n",
    "                'title': 'Stop',\n",
    "                'value':'$StopName'\n",
    "               }, {\n",
    "                'title': 'Shelter',\n",
    "                'value': '$Shelter'\n",
    "               }, {\n",
    "                'title': 'Shelter Status',\n",
    "                'value': '$Status'\n",
    "               }\n",
    "            ] \n",
    "        }),\n",
    "        widgets = [\n",
    "          formula_widget(\n",
    "              'Existing',\n",
    "              'sum',\n",
    "              title = \"Existing Bus Stop Shelters\"\n",
    "          ),\n",
    "          formula_widget(\n",
    "              'Planned',\n",
    "              'sum',\n",
    "              title = \"Planned Bus Stop Shelters\"\n",
    "          ),\n",
    "          formula_widget(\n",
    "              'No_Shelter_Planned',\n",
    "              'sum',\n",
    "              title = \"No Planned Bus Stop Shelters\"\n",
    "          ),\n",
    "          category_widget(\n",
    "              'Status',\n",
    "              title = \"Shelter Status\",\n",
    "              description = \"Click to filter by shelter status\"\n",
    "          ),\n",
    "          category_widget(\n",
    "              'Shelter',\n",
    "              title = \"Shelter Type\",\n",
    "              description = \"Click to filter by shelter Type\"\n",
    "          )\n",
    "        ]\n",
    "    )\n",
    ")"
   ]
  },
  {
   "cell_type": "code",
   "execution_count": null,
   "metadata": {
    "slideshow": {
     "slide_type": "subslide"
    }
   },
   "outputs": [],
   "source": [
    "shelter_stop_map"
   ]
  },
  {
   "cell_type": "markdown",
   "metadata": {
    "slideshow": {
     "slide_type": "slide"
    }
   },
   "source": [
    "#### Kepler"
   ]
  },
  {
   "cell_type": "code",
   "execution_count": null,
   "metadata": {
    "slideshow": {
     "slide_type": "fragment"
    }
   },
   "outputs": [],
   "source": [
    "from keplergl import KeplerGl"
   ]
  },
  {
   "cell_type": "markdown",
   "metadata": {
    "slideshow": {
     "slide_type": "skip"
    }
   },
   "source": [
    "Before using Kepler, we'll do some data maniuplation to separate the bus stop coordinates into `x` and `y` columns."
   ]
  },
  {
   "cell_type": "code",
   "execution_count": null,
   "metadata": {
    "slideshow": {
     "slide_type": "skip"
    }
   },
   "outputs": [],
   "source": [
    "stops_shelters_xy_gdf = stops_shelters_gdf\n",
    "stops_shelters_xy_gdf['x'] = stops_shelters_xy_gdf.apply(lambda x: x['geometry'].x, axis = 1)\n",
    "stops_shelters_xy_gdf['y'] = stops_shelters_xy_gdf.apply(lambda x: x['geometry'].y, axis = 1)\n",
    "stops_shelters_xy_gdf.head()"
   ]
  },
  {
   "cell_type": "markdown",
   "metadata": {
    "slideshow": {
     "slide_type": "skip"
    }
   },
   "source": [
    "#### Bus Stop & Shelters"
   ]
  },
  {
   "cell_type": "code",
   "execution_count": null,
   "metadata": {
    "slideshow": {
     "slide_type": "skip"
    }
   },
   "outputs": [],
   "source": [
    "map_1 = KeplerGl(\n",
    "    height = 1000,\n",
    "    data = {\n",
    "        \"bus\": stops_shelters_xy_gdf\n",
    "    }\n",
    ")\n",
    "map_1"
   ]
  },
  {
   "cell_type": "markdown",
   "metadata": {
    "slideshow": {
     "slide_type": "subslide"
    }
   },
   "source": [
    "#### Census Block - Park Connections"
   ]
  },
  {
   "cell_type": "code",
   "execution_count": null,
   "metadata": {
    "slideshow": {
     "slide_type": "subslide"
    }
   },
   "outputs": [],
   "source": [
    "ebpa_df = pd.read_csv('./DATA/ebpa_all_los_origin_dest_201902.csv')\n",
    "map_2_config = {'version': 'v1',\n",
    " 'config': {'visState': {'filters': [{'dataId': ['ebpa'],\n",
    "     'id': 'rarxykf9',\n",
    "     'name': ['analysis_class'],\n",
    "     'type': 'range',\n",
    "     'value': [0.5, 4],\n",
    "     'enlarged': False,\n",
    "     'plotType': 'histogram',\n",
    "     'yAxis': None},\n",
    "    {'dataId': ['ebpa'],\n",
    "     'id': 'nbg2l08d7n',\n",
    "     'name': ['total_length'],\n",
    "     'type': 'range',\n",
    "     'value': [0, 1000],\n",
    "     'enlarged': False,\n",
    "     'plotType': 'histogram',\n",
    "     'yAxis': None}],\n",
    "   'layers': [{'id': 'deygtuk',\n",
    "     'type': 'arc',\n",
    "     'config': {'dataId': 'ebpa',\n",
    "      'label': 'ebpa',\n",
    "      'color': [206, 64, 170],\n",
    "      'columns': {'lat0': 'origin_y',\n",
    "       'lng0': 'origin_x',\n",
    "       'lat1': 'destination_y',\n",
    "       'lng1': 'destination_x'},\n",
    "      'isVisible': True,\n",
    "      'visConfig': {'opacity': 0.8,\n",
    "       'thickness': 0.5,\n",
    "       'colorRange': {'name': 'Global Warming',\n",
    "        'type': 'sequential',\n",
    "        'category': 'Uber',\n",
    "        'colors': ['#5A1846',\n",
    "         '#900C3F',\n",
    "         '#C70039',\n",
    "         '#E3611C',\n",
    "         '#F1920E',\n",
    "         '#FFC300']},\n",
    "       'sizeRange': [0, 10],\n",
    "       'targetColor': [117, 222, 227]},\n",
    "      'textLabel': [{'field': None,\n",
    "        'color': [255, 255, 255],\n",
    "        'size': 18,\n",
    "        'offset': [0, 0],\n",
    "        'anchor': 'start',\n",
    "        'alignment': 'center'}]},\n",
    "     'visualChannels': {'colorField': None,\n",
    "      'colorScale': 'quantile',\n",
    "      'sizeField': None,\n",
    "      'sizeScale': 'linear'}},\n",
    "    {'id': '4b4gt44',\n",
    "     'type': 'geojson',\n",
    "     'config': {'dataId': 'parks',\n",
    "      'label': 'parks',\n",
    "      'color': [77, 193, 156],\n",
    "      'columns': {'geojson': 'geometry'},\n",
    "      'isVisible': True,\n",
    "      'visConfig': {'opacity': 0.8,\n",
    "       'thickness': 0.5,\n",
    "       'strokeColor': [119, 110, 87],\n",
    "       'colorRange': {'name': 'Global Warming',\n",
    "        'type': 'sequential',\n",
    "        'category': 'Uber',\n",
    "        'colors': ['#5A1846',\n",
    "         '#900C3F',\n",
    "         '#C70039',\n",
    "         '#E3611C',\n",
    "         '#F1920E',\n",
    "         '#FFC300']},\n",
    "       'strokeColorRange': {'name': 'Global Warming',\n",
    "        'type': 'sequential',\n",
    "        'category': 'Uber',\n",
    "        'colors': ['#5A1846',\n",
    "         '#900C3F',\n",
    "         '#C70039',\n",
    "         '#E3611C',\n",
    "         '#F1920E',\n",
    "         '#FFC300']},\n",
    "       'radius': 10,\n",
    "       'sizeRange': [0, 10],\n",
    "       'radiusRange': [0, 50],\n",
    "       'heightRange': [0, 500],\n",
    "       'elevationScale': 5,\n",
    "       'stroked': True,\n",
    "       'filled': True,\n",
    "       'enable3d': False,\n",
    "       'wireframe': False},\n",
    "      'textLabel': [{'field': None,\n",
    "        'color': [255, 255, 255],\n",
    "        'size': 18,\n",
    "        'offset': [0, 0],\n",
    "        'anchor': 'start',\n",
    "        'alignment': 'center'}]},\n",
    "     'visualChannels': {'colorField': None,\n",
    "      'colorScale': 'quantile',\n",
    "      'sizeField': None,\n",
    "      'sizeScale': 'linear',\n",
    "      'strokeColorField': None,\n",
    "      'strokeColorScale': 'quantile',\n",
    "      'heightField': None,\n",
    "      'heightScale': 'linear',\n",
    "      'radiusField': None,\n",
    "      'radiusScale': 'linear'}}],\n",
    "   'interactionConfig': {'tooltip': {'fieldsToShow': {'ebpa': ['origin_id',\n",
    "       'origin_x',\n",
    "       'origin_y',\n",
    "       'parkid',\n",
    "       'destination_id'],\n",
    "      'parks': ['OBJECTID',\n",
    "       'NAME',\n",
    "       'PARK_TYPE',\n",
    "       'FILE_NUMBER',\n",
    "       'PARCEL_COUNT']},\n",
    "     'enabled': False},\n",
    "    'brush': {'size': 0.5, 'enabled': True}},\n",
    "   'layerBlending': 'normal',\n",
    "   'splitMaps': [],\n",
    "   'animationConfig': {'currentTime': None, 'speed': 1}},\n",
    "  'mapState': {'bearing': 24,\n",
    "   'dragRotate': True,\n",
    "   'latitude': 35.78332321445701,\n",
    "   'longitude': -78.65892203437697,\n",
    "   'pitch': 50,\n",
    "   'zoom': 13.277939926587665,\n",
    "   'isSplit': False},\n",
    "  'mapStyle': {'styleType': 'dark',\n",
    "   'topLayerGroups': {},\n",
    "   'visibleLayerGroups': {'label': True,\n",
    "    'road': True,\n",
    "    'border': False,\n",
    "    'building': True,\n",
    "    'water': True,\n",
    "    'land': True,\n",
    "    '3d building': False},\n",
    "   'threeDBuildingColor': [9.665468314072013,\n",
    "    17.18305478057247,\n",
    "    31.1442867897876],\n",
    "   'mapStyles': {}}}}"
   ]
  },
  {
   "cell_type": "code",
   "execution_count": null,
   "metadata": {
    "slideshow": {
     "slide_type": "subslide"
    }
   },
   "outputs": [],
   "source": [
    "map_2 = KeplerGl(\n",
    "    height = 600,\n",
    "    data = {\n",
    "        \"ebpa\": ebpa_df,\n",
    "        \"parks\": parks_gdf\n",
    "    }\n",
    ")\n",
    "map_2.config = map_2_config\n",
    "map_2"
   ]
  },
  {
   "cell_type": "code",
   "execution_count": null,
   "metadata": {
    "slideshow": {
     "slide_type": "skip"
    }
   },
   "outputs": [],
   "source": [
    "map_2.config"
   ]
  },
  {
   "cell_type": "code",
   "execution_count": null,
   "metadata": {},
   "outputs": [],
   "source": []
  }
 ],
 "metadata": {
  "celltoolbar": "Slideshow",
  "kernelspec": {
   "display_name": "Python 3",
   "language": "python",
   "name": "python3"
  },
  "language_info": {
   "codemirror_mode": {
    "name": "ipython",
    "version": 3
   },
   "file_extension": ".py",
   "mimetype": "text/x-python",
   "name": "python",
   "nbconvert_exporter": "python",
   "pygments_lexer": "ipython3",
   "version": "3.7.3"
  }
 },
 "nbformat": 4,
 "nbformat_minor": 4
}
